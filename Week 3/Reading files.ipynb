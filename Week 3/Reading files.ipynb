{
 "cells": [
  {
   "cell_type": "markdown",
   "metadata": {
    "slideshow": {
     "slide_type": "slide"
    }
   },
   "source": [
    "# Reading files"
   ]
  },
  {
   "cell_type": "markdown",
   "metadata": {
    "slideshow": {
     "slide_type": "slide"
    }
   },
   "source": [
    "One of the most useful things that you can do with Python is read information from existing files. This is particular useful if you want to do something with, e.g. biological sequence data. Fortunately, this is pretty easy in Python. Say you want to read some sequence data in seqs.fasta. You can open the file and assign the whole file to a variable with the `open()` command."
   ]
  },
  {
   "cell_type": "code",
   "execution_count": 1,
   "metadata": {
    "collapsed": true,
    "slideshow": {
     "slide_type": "fragment"
    }
   },
   "outputs": [],
   "source": [
    "seq_file = open(\"seqs.fasta\")"
   ]
  },
  {
   "cell_type": "markdown",
   "metadata": {
    "slideshow": {
     "slide_type": "slide"
    }
   },
   "source": [
    "Now `seq_file` is a variable representing the file. There are many useful things that you can do with files, but the method you will probably use most is `readlines()`. Let's use that method now and print out the lines that we read using a for loop, then close the file using `close()`."
   ]
  },
  {
   "cell_type": "code",
   "execution_count": 2,
   "metadata": {
    "collapsed": false,
    "slideshow": {
     "slide_type": "fragment"
    }
   },
   "outputs": [
    {
     "name": "stdout",
     "output_type": "stream",
     "text": [
      ">First\n",
      "\n",
      "ACGTGTGAACCGTGA\n",
      "\n",
      ">Second\n",
      "\n",
      "ACTTGTTTGAGTGAC\n",
      "\n",
      ">Third\n",
      "\n",
      "ACGTGTGAACCTTTT\n"
     ]
    }
   ],
   "source": [
    "for line in seq_file.readlines():\n",
    "    print(line)\n",
    "seq_file.close()"
   ]
  },
  {
   "cell_type": "markdown",
   "metadata": {
    "slideshow": {
     "slide_type": "fragment"
    }
   },
   "source": [
    "We closed the file at the end. Each time you want to loop through a file, you must either close it and open it again or use other methods to move back to the beginning of the file."
   ]
  },
  {
   "cell_type": "markdown",
   "metadata": {
    "slideshow": {
     "slide_type": "slide"
    }
   },
   "source": [
    "You can also use logic within the for loop to do something more interesting. Let's print only the lines of the fasta file that aren't headers. Remember that you have to re-open the file."
   ]
  },
  {
   "cell_type": "code",
   "execution_count": 3,
   "metadata": {
    "collapsed": false,
    "slideshow": {
     "slide_type": "fragment"
    }
   },
   "outputs": [
    {
     "name": "stdout",
     "output_type": "stream",
     "text": [
      "ACGTGTGAACCGTGA\n",
      "\n",
      "ACTTGTTTGAGTGAC\n",
      "\n",
      "ACGTGTGAACCTTTT\n"
     ]
    }
   ],
   "source": [
    "seq_file = open(\"seqs.fasta\")\n",
    "for line in seq_file.readlines():\n",
    "    if line[0] != \">\":\n",
    "        print(line)\n",
    "seq_file.close()"
   ]
  }
 ],
 "metadata": {
  "celltoolbar": "Slideshow",
  "kernelspec": {
   "display_name": "Python 3",
   "language": "python",
   "name": "python3"
  },
  "language_info": {
   "codemirror_mode": {
    "name": "ipython",
    "version": 3
   },
   "file_extension": ".py",
   "mimetype": "text/x-python",
   "name": "python",
   "nbconvert_exporter": "python",
   "pygments_lexer": "ipython3",
   "version": "3.5.2"
  }
 },
 "nbformat": 4,
 "nbformat_minor": 0
}
