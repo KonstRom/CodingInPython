{
 "cells": [
  {
   "cell_type": "markdown",
   "metadata": {},
   "source": [
    "# Homework 4"
   ]
  },
  {
   "cell_type": "markdown",
   "metadata": {},
   "source": [
    "Your Week 4 homework assignment will build on the assignment from Week 3.\n",
    "\n",
    "Again, you will be provided a text file called \"sequences.txt\" that contains DNA sequences line-by-line.\n",
    "\n",
    "Your goal this week will be to find the correct reading frame for each sequence, and print its amino acid translation."
   ]
  },
  {
   "cell_type": "code",
   "execution_count": 2,
   "metadata": {
    "collapsed": false
   },
   "outputs": [
    {
     "name": "stdout",
     "output_type": "stream",
     "text": [
      "{'Codon': 'TTT', 'Amino Acid': 'F'}\n",
      "{'Codon': 'TTC', 'Amino Acid': 'F'}\n",
      "{'Codon': 'TTA', 'Amino Acid': 'L'}\n",
      "{'Codon': 'TTG', 'Amino Acid': 'L'}\n",
      "{'Codon': 'TCT', 'Amino Acid': 'S'}\n",
      "{'Codon': 'TCC', 'Amino Acid': 'S'}\n",
      "{'Codon': 'TCA', 'Amino Acid': 'S'}\n",
      "{'Codon': 'TCG', 'Amino Acid': 'S'}\n",
      "{'Codon': 'TAT', 'Amino Acid': 'Y'}\n",
      "{'Codon': 'TAC', 'Amino Acid': 'Y'}\n",
      "{'Codon': 'TAA', 'Amino Acid': '*'}\n",
      "{'Codon': 'TAG', 'Amino Acid': '*'}\n",
      "{'Codon': 'TGT', 'Amino Acid': 'C'}\n",
      "{'Codon': 'TGC', 'Amino Acid': 'C'}\n",
      "{'Codon': 'TGA', 'Amino Acid': '*'}\n",
      "{'Codon': 'TGG', 'Amino Acid': 'W'}\n",
      "{'Codon': 'CTT', 'Amino Acid': 'L'}\n",
      "{'Codon': 'CTC', 'Amino Acid': 'L'}\n",
      "{'Codon': 'CTA', 'Amino Acid': 'L'}\n",
      "{'Codon': 'CTG', 'Amino Acid': 'L'}\n",
      "{'Codon': 'CCT', 'Amino Acid': 'P'}\n",
      "{'Codon': 'CCC', 'Amino Acid': 'P'}\n",
      "{'Codon': 'CCA', 'Amino Acid': 'P'}\n",
      "{'Codon': 'CCG', 'Amino Acid': 'P'}\n",
      "{'Codon': 'CAT', 'Amino Acid': 'H'}\n",
      "{'Codon': 'CAC', 'Amino Acid': 'H'}\n",
      "{'Codon': 'CAA', 'Amino Acid': 'Q'}\n",
      "{'Codon': 'CAG', 'Amino Acid': 'Q'}\n",
      "{'Codon': 'CGT', 'Amino Acid': 'R'}\n",
      "{'Codon': 'CGC', 'Amino Acid': 'R'}\n",
      "{'Codon': 'CGA', 'Amino Acid': 'R'}\n",
      "{'Codon': 'CGG', 'Amino Acid': 'R'}\n",
      "{'Codon': 'ATT', 'Amino Acid': 'I'}\n",
      "{'Codon': 'ATC', 'Amino Acid': 'I'}\n",
      "{'Codon': 'ATA', 'Amino Acid': 'I'}\n",
      "{'Codon': 'ATG', 'Amino Acid': 'M'}\n",
      "{'Codon': 'ACT', 'Amino Acid': 'T'}\n",
      "{'Codon': 'ACC', 'Amino Acid': 'T'}\n",
      "{'Codon': 'ACA', 'Amino Acid': 'T'}\n",
      "{'Codon': 'ACG', 'Amino Acid': 'T'}\n",
      "{'Codon': 'AAT', 'Amino Acid': 'N'}\n",
      "{'Codon': 'AAC', 'Amino Acid': 'N'}\n",
      "{'Codon': 'AAA', 'Amino Acid': 'K'}\n",
      "{'Codon': 'AAG', 'Amino Acid': 'K'}\n",
      "{'Codon': 'AGT', 'Amino Acid': 'S'}\n",
      "{'Codon': 'AGC', 'Amino Acid': 'S'}\n",
      "{'Codon': 'AGA', 'Amino Acid': 'R'}\n",
      "{'Codon': 'AGG', 'Amino Acid': 'R'}\n",
      "{'Codon': 'GTT', 'Amino Acid': 'V'}\n",
      "{'Codon': 'GTC', 'Amino Acid': 'V'}\n",
      "{'Codon': 'GTA', 'Amino Acid': 'V'}\n",
      "{'Codon': 'GTG', 'Amino Acid': 'V'}\n",
      "{'Codon': 'GCT', 'Amino Acid': 'A'}\n",
      "{'Codon': 'GCC', 'Amino Acid': 'A'}\n",
      "{'Codon': 'GCA', 'Amino Acid': 'A'}\n",
      "{'Codon': 'GCG', 'Amino Acid': 'A'}\n",
      "{'Codon': 'GAT', 'Amino Acid': 'D'}\n",
      "{'Codon': 'GAC', 'Amino Acid': 'D'}\n",
      "{'Codon': 'GAA', 'Amino Acid': 'E'}\n",
      "{'Codon': 'GAG', 'Amino Acid': 'E'}\n",
      "{'Codon': 'GGT', 'Amino Acid': 'G'}\n",
      "{'Codon': 'GGC', 'Amino Acid': 'G'}\n",
      "{'Codon': 'GGA', 'Amino Acid': 'G'}\n",
      "{'Codon': 'GGG', 'Amino Acid': 'G'}\n"
     ]
    }
   ],
   "source": [
    "import csv\n",
    "\n",
    "codon_codes = {}\n",
    "with open('standard_code.tsv', 'r') as infile:\n",
    "    reader = csv.DictReader(infile, delimiter='\\t')\n",
    "    for row in reader:\n",
    "        print(row)"
   ]
  },
  {
   "cell_type": "code",
   "execution_count": null,
   "metadata": {
    "collapsed": true
   },
   "outputs": [],
   "source": []
  }
 ],
 "metadata": {
  "kernelspec": {
   "display_name": "Python 3",
   "language": "python",
   "name": "python3"
  },
  "language_info": {
   "codemirror_mode": {
    "name": "ipython",
    "version": 3
   },
   "file_extension": ".py",
   "mimetype": "text/x-python",
   "name": "python",
   "nbconvert_exporter": "python",
   "pygments_lexer": "ipython3",
   "version": "3.5.1"
  }
 },
 "nbformat": 4,
 "nbformat_minor": 0
}
