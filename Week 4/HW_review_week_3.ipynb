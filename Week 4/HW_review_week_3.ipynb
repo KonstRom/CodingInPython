{
 "cells": [
  {
   "cell_type": "markdown",
   "metadata": {},
   "source": [
    "# Review of last week's homework assignment"
   ]
  },
  {
   "cell_type": "markdown",
   "metadata": {},
   "source": [
    "The homework last week instructed you to take some example sequences, put them in a file called 'sequences.txt', read in the file, calculate the GC content on each sequence, and then print only the highest GC content value.\n",
    "\n",
    "Here were the example sequences that should placed into `sequences.txt`:\n",
    "```\n",
    "AGCTCGATCGATACG\n",
    "GGCTCTCAAG\n",
    "CTAGCTAGACGA\n",
    "```"
   ]
  },
  {
   "cell_type": "markdown",
   "metadata": {},
   "source": [
    "First, we need to open the file and assign it to a variable:"
   ]
  },
  {
   "cell_type": "code",
   "execution_count": 1,
   "metadata": {
    "collapsed": true
   },
   "outputs": [],
   "source": [
    "seq_file = open(\"sequences.txt\")"
   ]
  },
  {
   "cell_type": "markdown",
   "metadata": {},
   "source": [
    "Next we will start a new list to hold the gc content values:"
   ]
  },
  {
   "cell_type": "code",
   "execution_count": 2,
   "metadata": {
    "collapsed": true
   },
   "outputs": [],
   "source": [
    "gc_cont_list = []"
   ]
  },
  {
   "cell_type": "markdown",
   "metadata": {},
   "source": [
    "Next we will loop through the file to grab each sequence. There are two important things to note here. \n",
    "\n",
    "The first is that each sequence line will have a special character at the end of the line. On MAC/Un\\*x, this will be `\\n`. On Windows machines, line endings are different, e.g. `\\r`. We will need to either ignore those characters or remove them from each sequence before we calculate the gc content. We will do this with a special string method called `.strip()`. This takes a character as an argument, then chops it off at the end of a string.\n",
    "\n",
    "The second is that for this example, we will have a loop inside of a loop. The first loop will loop through the lines in the file, while the second will loop through the characters in the string. Note that you should be careful when using nested loops like this. They can greatly increase the complexity of your program and the resulting time needed to run them."
   ]
  },
  {
   "cell_type": "code",
   "execution_count": null,
   "metadata": {
    "collapsed": true
   },
   "outputs": [],
   "source": [
    "for line in seq_file.readlines():\n",
    "    new_line = line.strip(\"\\n\")\n",
    "    line_length = len(new_line)\n",
    "    gc = 0\n",
    "    for i in new_line:\n",
    "        if i == \"G\" or i == \"C\":\n",
    "            gc += 1\n",
    "    gc_cont = gc/line_length\n",
    "    gc_cont_list.append(gc_cont)"
   ]
  },
  {
   "cell_type": "markdown",
   "metadata": {},
   "source": [
    "Now let's take a look at the `gc_cont_list` to see if its contents make sense:"
   ]
  },
  {
   "cell_type": "code",
   "execution_count": null,
   "metadata": {
    "collapsed": false
   },
   "outputs": [],
   "source": [
    "print(gc_cont_list)"
   ]
  },
  {
   "cell_type": "markdown",
   "metadata": {},
   "source": [
    "That looks pretty good. It's often good to use an example like this that you can calculate by hand before applying it to a larger series of sequences. Now let's take the maximum value and print it:"
   ]
  },
  {
   "cell_type": "code",
   "execution_count": null,
   "metadata": {
    "collapsed": false
   },
   "outputs": [],
   "source": [
    "max_gc = max(gc_cont_list)\n",
    "print(\"Your maximum GC content is: \" + str(max_gc) + \"!\")"
   ]
  },
  {
   "cell_type": "markdown",
   "metadata": {},
   "source": [
    "And, finally, we want to make sure that we close the file."
   ]
  },
  {
   "cell_type": "code",
   "execution_count": null,
   "metadata": {
    "collapsed": true
   },
   "outputs": [],
   "source": [
    "seq_file.close()"
   ]
  },
  {
   "cell_type": "markdown",
   "metadata": {},
   "source": [
    "There are some things that we could have done differently that might make this code more robust. For example, instead of using the `.strip()` method, we could have just counted the number of `ACTG`s and divide that by the number of `C` and `G`. We could also have translated the whole sequence into uppercase letters so that we didn't miss any lowercase or soft masked nucleotides. While we are doing all of that, we could also check for characters that aren't `ACTG` and throw an error when we encounter them (keeping in mind that we wouldn't want to throw an error for a `\\n`. \n",
    "\n",
    "Here is how that might look:"
   ]
  },
  {
   "cell_type": "code",
   "execution_count": null,
   "metadata": {
    "collapsed": false
   },
   "outputs": [],
   "source": [
    "seq_file = open(\"sequences.txt\")\n",
    "gc_cont_list = []\n",
    "for line in seq_file.readlines():\n",
    "    new_line = line.upper()\n",
    "    gc = 0\n",
    "    at = 0\n",
    "    for i in line:\n",
    "        if i == \"C\" or i == \"G\":\n",
    "            gc += 1\n",
    "        elif i == \"A\" or i == \"T\":\n",
    "            at += 1\n",
    "        elif i == \"\\n\":\n",
    "            pass\n",
    "        else:\n",
    "            print(\"Warning: Uh oh, it looks like you have a character that is not A, C, T, or G.\" +\n",
    "                  \" This program only estimates GC content based on those characters. We\" +\n",
    "                  \" will move on, but check your file to make sure your results are consistent.\")\n",
    "    gc_cont = (gc/(at + gc))\n",
    "    gc_cont_list.append(gc_cont)\n",
    "max_gc = max(gc_cont_list)\n",
    "print(\"Your maximum GC content is: \" + str(max_gc) + \"!\")\n",
    "seq_file.close()"
   ]
  },
  {
   "cell_type": "markdown",
   "metadata": {},
   "source": [
    "This might be a bit better than our example above, but we could still make it more robust to problems with the data. For example, it's probably better to raise an error when there is a character that doesn't match your expectations. This *forces* the user to fix their problem before moving on, which is usually the best call depending on how important the error is. You can raise a `ValueError` to do that. We will go over an example where we do this in our next section on functions."
   ]
  }
 ],
 "metadata": {
  "kernelspec": {
   "display_name": "Python 3",
   "language": "python",
   "name": "python3"
  },
  "language_info": {
   "codemirror_mode": {
    "name": "ipython",
    "version": 3
   },
   "file_extension": ".py",
   "mimetype": "text/x-python",
   "name": "python",
   "nbconvert_exporter": "python",
   "pygments_lexer": "ipython3",
   "version": "3.5.1"
  }
 },
 "nbformat": 4,
 "nbformat_minor": 0
}
